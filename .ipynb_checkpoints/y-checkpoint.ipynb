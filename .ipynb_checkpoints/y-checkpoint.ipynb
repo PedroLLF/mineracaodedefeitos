{
 "cells": [
  {
   "cell_type": "code",
   "execution_count": null,
   "id": "3e58df57-93b8-4ca0-9ce1-f7b8b2f2965f",
   "metadata": {},
   "outputs": [],
   "source": [
    "#Projeto de mineração de defeitos para identificação de áreas criticas de um sistema\n",
    "#No projeto, será utilizado o LangChain, framework de Python que é amplamente utilizado para manipular dados textuais utilizando LLMS"
   ]
  },
  {
   "cell_type": "code",
   "execution_count": null,
   "id": "bd5b5c74-ecbe-4c06-a8ed-a0ea5037cb14",
   "metadata": {},
   "outputs": [],
   "source": [
    "# Importar bibliotecas\n",
    "import pandas as pd\n",
    "import matplotlib.pyplot as plt\n",
    "import seaborn as sns\n",
    "import numpy as np"
   ]
  },
  {
   "cell_type": "code",
   "execution_count": null,
   "id": "10e40e16-943e-4d7d-b27c-dda55b26d48c",
   "metadata": {},
   "outputs": [],
   "source": [
    "# Carregar os dados\n",
    "df = pd.read_csv(\"C:/Users/pedro/OneDrive/Documentos/basesdedefeitos/jirabugs.csv\")"
   ]
  },
  {
   "cell_type": "code",
   "execution_count": null,
   "id": "c585da62-5546-44f1-9d93-616296845883",
   "metadata": {},
   "outputs": [],
   "source": [
    "# Verificar as primeiras linhas para entender o formato dos dados\n",
    "df.head(10)\n",
    "# Verificar as últimas linhas para entender o formato dos dados\n",
    "df.tail(10)"
   ]
  },
  {
   "cell_type": "code",
   "execution_count": null,
   "id": "ce84bee1-6a14-412c-a75a-7c312755c090",
   "metadata": {},
   "outputs": [],
   "source": [
    "# Definir os tipos de dados da coluna 'created' como datas\n",
    "df['Created'] = pd.to_datetime(df['Created'], errors='coerce')"
   ]
  },
  {
   "cell_type": "code",
   "execution_count": null,
   "id": "b365e7c5-b122-4bd0-8c6c-4c28dbcbd85b",
   "metadata": {},
   "outputs": [],
   "source": [
    "# Checar se existem linhas duplicadas\n",
    "duplicate_rows = df.duplicated()"
   ]
  },
  {
   "cell_type": "code",
   "execution_count": null,
   "id": "cbdcb7d7-87c6-4220-bd30-30658cd035c8",
   "metadata": {},
   "outputs": [],
   "source": [
    "# Print the number of duplicate rows\n",
    "print(f'Numero de linhas duplicadas: {duplicate_rows.sum()}')"
   ]
  },
  {
   "cell_type": "code",
   "execution_count": null,
   "id": "80c4bcb6-92b2-4d0d-a801-bb43081836de",
   "metadata": {},
   "outputs": [],
   "source": [
    "# Remove duplicate rows\n",
    "df_cleaned = df.drop_duplicates()"
   ]
  },
  {
   "cell_type": "code",
   "execution_count": null,
   "id": "0372a97c-f9df-474f-bfb5-0ca7efef109b",
   "metadata": {},
   "outputs": [],
   "source": [
    "# Optionally, you can check the shape of the cleaned DataFrame\n",
    "print(f'Formato do dataframe depois de remover duplicatas: {df_cleaned.shape}')"
   ]
  },
  {
   "cell_type": "code",
   "execution_count": null,
   "id": "50da502d-1611-4cbc-a7e9-19b410bd40d4",
   "metadata": {},
   "outputs": [],
   "source": [
    "# Iterar cada coluna do dataframe e padronizar a formatação das strings passando para letras minusculas\n",
    "for column in df.select_dtypes(include=['object']).columns:\n",
    "    df[column] = df[column].str.strip().str.lower()"
   ]
  },
  {
   "cell_type": "code",
   "execution_count": null,
   "id": "465aff54-71bb-445a-a113-961834023167",
   "metadata": {},
   "outputs": [],
   "source": [
    "# Definir celulas não preenchidas como 'missing' para maior organização\n",
    "df.fillna('NULL')"
   ]
  },
  {
   "cell_type": "code",
   "execution_count": null,
   "id": "88aef5aa-fcad-4f81-bff1-0d0440613db2",
   "metadata": {},
   "outputs": [],
   "source": [
    "# Verificar informações gerais (colunas, tipos de dados, valores nulos)\n",
    "df.info()"
   ]
  },
  {
   "cell_type": "code",
   "execution_count": null,
   "id": "6a201500-c5f8-4fc2-800f-b5efaa421a3a",
   "metadata": {},
   "outputs": [],
   "source": [
    "# Verificar estatísticas descritivas (se houver dados numéricos)\n",
    "df.describe()"
   ]
  },
  {
   "cell_type": "code",
   "execution_count": null,
   "id": "e58fa6b9-ca1b-4a13-81a5-fea7ecb5a475",
   "metadata": {},
   "outputs": [],
   "source": [
    "# Contagem dos tipos de defeitos\n",
    "defeitos_freq = df['Epic Link'].value_counts()\n",
    "print(defeitos_freq)"
   ]
  },
  {
   "cell_type": "code",
   "execution_count": null,
   "id": "6b512fc9-4f47-44bf-9a5f-c8bc5d51729a",
   "metadata": {},
   "outputs": [],
   "source": [
    "# Top 10 defeitos mais comuns\n",
    "defeitos_mais_comuns = defeitos_freq.head(10)\n",
    "print(\"Defeitos mais comuns:\\n\", defeitos_mais_comuns)"
   ]
  },
  {
   "cell_type": "code",
   "execution_count": null,
   "id": "d5994012-ab32-420e-a8c5-62a8e73e721f",
   "metadata": {},
   "outputs": [],
   "source": [
    "# Top 10 defeitos menos comuns\n",
    "defeitos_menos_comuns = defeitos_freq.tail(10)\n",
    "print(\"Defeitos menos comuns:\\n\", defeitos_menos_comuns)"
   ]
  },
  {
   "cell_type": "code",
   "execution_count": null,
   "id": "0a4ae53c-af81-4f33-8b52-fcb1e0431be7",
   "metadata": {},
   "outputs": [],
   "source": [
    "# Gráfico de frequência dos defeitos\n",
    "plt.figure(figsize=(12, 6))\n",
    "sns.barplot(x=defeitos_freq.index, y=defeitos_freq.values)\n",
    "plt.xticks(rotation=90)\n",
    "plt.xlabel(\"Epico\")\n",
    "plt.ylabel(\"Frequência\")\n",
    "plt.title(\"Frequência de Defeitos por Epico\")\n",
    "plt.show()"
   ]
  },
  {
   "cell_type": "code",
   "execution_count": null,
   "id": "c0bf015d-6779-4b0e-800d-0e7d142678ae",
   "metadata": {},
   "outputs": [],
   "source": [
    "# Gráfico de distribuição de defeitos (Pareto)\n",
    "plt.figure(figsize=(12, 6))\n",
    "defeitos_freq.cumsum().plot(drawstyle=\"steps-post\", color=\"blue\", label=\"Cumulative Frequency\")\n",
    "defeitos_freq.plot(kind=\"bar\", color=\"orange\", alpha=0.7, label=\"Defect Count\")\n",
    "plt.ylabel(\"Frequência\")\n",
    "plt.title(\"Distribuição de Defeitos (Pareto)\")\n",
    "plt.legend()\n",
    "plt.show()"
   ]
  },
  {
   "cell_type": "code",
   "execution_count": null,
   "id": "9cfc1c95-c917-4bbe-8565-eec937168790",
   "metadata": {},
   "outputs": [],
   "source": [
    "# Resumir o número de defeitos por mês/ano\n",
    "defeitos_por_mes = df.groupby(df['Created'].dt.to_period(\"M\")).size()\n",
    "defeitos_por_mes.plot(kind='line', marker='o', figsize=(12, 6))\n",
    "plt.xlabel(\"Data\")\n",
    "plt.ylabel(\"Número de Defeitos\")\n",
    "plt.title(\"Frequência de Defeitos ao Longo do Tempo\")\n",
    "plt.show()"
   ]
  },
  {
   "cell_type": "code",
   "execution_count": null,
   "id": "c501ccd5-8f95-4a0a-bda4-06f38f2d09de",
   "metadata": {},
   "outputs": [],
   "source": [
    "# Extrair a versão do sistema (release) da coluna 'Summary' usando regex\n",
    "df['Release'] = df['Summary'].str.extract(r'\\[(v[\\d\\.]+-[\\w\\d\\.]+)\\]')[0]"
   ]
  },
  {
   "cell_type": "code",
   "execution_count": null,
   "id": "f6f492fd-8bca-4859-833d-3afa7caaf405",
   "metadata": {},
   "outputs": [],
   "source": [
    "# Contar o número total de bugs por release\n",
    "total_bug_counts = df.groupby('Release').size().reset_index(name='Total Bug Count')"
   ]
  },
  {
   "cell_type": "code",
   "execution_count": null,
   "id": "833a97d6-e844-4ca1-b0a7-2bed9dd302af",
   "metadata": {},
   "outputs": [],
   "source": [
    "# Gerar gráfico de bugs por release\n",
    "plt.figure(figsize=(12, 6))\n",
    "sns.barplot(data=total_bug_counts, x='Release', y='Total Bug Count', color='salmon')\n"
   ]
  },
  {
   "cell_type": "code",
   "execution_count": null,
   "id": "7ebe00fd-f23b-4089-9d75-059968d37602",
   "metadata": {},
   "outputs": [],
   "source": [
    "# Ajustes de rótulos e título\n",
    "plt.xticks(rotation=45, ha='right')\n",
    "plt.xlabel(\"Versão (Release)\")\n",
    "plt.ylabel(\"Quantidade Total de Bugs\")\n",
    "plt.title(\"Quantidade Total de Bugs por Release\")"
   ]
  },
  {
   "cell_type": "code",
   "execution_count": null,
   "id": "e90e143d-fdfc-43f6-ac81-17ec89f58001",
   "metadata": {},
   "outputs": [],
   "source": [
    "# Mostrar o gráfico\n",
    "plt.tight_layout()\n",
    "plt.show()"
   ]
  },
  {
   "cell_type": "code",
   "execution_count": null,
   "id": "9094bd20-6e73-4841-be9e-abee63c6a879",
   "metadata": {},
   "outputs": [],
   "source": [
    "# Contar o número de bugs para cada épico, agrupados por release\n",
    "bug_counts = df.groupby(['Release', 'Epic Link']).size().reset_index(name='Bug Count')"
   ]
  },
  {
   "cell_type": "code",
   "execution_count": null,
   "id": "95d3fe05-7aa7-41fa-b346-2b2527683c22",
   "metadata": {},
   "outputs": [],
   "source": [
    "# Gráfico de bugs por release e épico\n",
    "plt.figure(figsize=(14, 8))\n",
    "sns.barplot(data=bug_counts, x='Release', y='Bug Count', hue='Epic Link', dodge=True)"
   ]
  },
  {
   "cell_type": "code",
   "execution_count": null,
   "id": "acdb96f7-abb1-4a2d-9f65-3133d4557f82",
   "metadata": {},
   "outputs": [],
   "source": [
    "# Ajustes de rótulos e título\n",
    "plt.xticks(rotation=45, ha='right')\n",
    "plt.xlabel(\"Versão (Release)\")\n",
    "plt.ylabel(\"Quantidade de Bugs\")\n",
    "plt.title(\"Quantidade de Bugs por Release e Epico\")"
   ]
  },
  {
   "cell_type": "code",
   "execution_count": 1,
   "id": "a7d16787-16d9-41f3-911b-5594f3a6a387",
   "metadata": {},
   "outputs": [
    {
     "ename": "NameError",
     "evalue": "name 'plt' is not defined",
     "output_type": "error",
     "traceback": [
      "\u001b[1;31m---------------------------------------------------------------------------\u001b[0m",
      "\u001b[1;31mNameError\u001b[0m                                 Traceback (most recent call last)",
      "Cell \u001b[1;32mIn[1], line 2\u001b[0m\n\u001b[0;32m      1\u001b[0m \u001b[38;5;66;03m# Mostrar a legenda e o gráfico\u001b[39;00m\n\u001b[1;32m----> 2\u001b[0m \u001b[43mplt\u001b[49m\u001b[38;5;241m.\u001b[39mlegend(title\u001b[38;5;241m=\u001b[39m\u001b[38;5;124m\"\u001b[39m\u001b[38;5;124mEpic Link\u001b[39m\u001b[38;5;124m\"\u001b[39m)\n\u001b[0;32m      3\u001b[0m plt\u001b[38;5;241m.\u001b[39mtight_layout()\n\u001b[0;32m      4\u001b[0m plt\u001b[38;5;241m.\u001b[39mshow()\n",
      "\u001b[1;31mNameError\u001b[0m: name 'plt' is not defined"
     ]
    }
   ],
   "source": [
    "\n"
   ]
  },
  {
   "cell_type": "code",
   "execution_count": null,
   "id": "e3bfd5ef-4e20-4ccc-951e-5c093a2e5df5",
   "metadata": {},
   "outputs": [],
   "source": []
  }
 ],
 "metadata": {
  "kernelspec": {
   "display_name": "Python 3 (ipykernel)",
   "language": "python",
   "name": "python3"
  },
  "language_info": {
   "codemirror_mode": {
    "name": "ipython",
    "version": 3
   },
   "file_extension": ".py",
   "mimetype": "text/x-python",
   "name": "python",
   "nbconvert_exporter": "python",
   "pygments_lexer": "ipython3",
   "version": "3.13.0"
  }
 },
 "nbformat": 4,
 "nbformat_minor": 5
}
